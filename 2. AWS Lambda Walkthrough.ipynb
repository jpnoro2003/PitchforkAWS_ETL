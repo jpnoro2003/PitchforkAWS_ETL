{
 "cells": [
  {
   "cell_type": "markdown",
   "metadata": {},
   "source": [
    "# AWS Lambda Function Walkthrough"
   ]
  },
  {
   "cell_type": "markdown",
   "metadata": {},
   "source": [
    "## Importing Libraries\n",
    "\n",
    "External Libraries (BeautifulSoup, Requests) must be installed in a folder on a local machine using PIP, then added to a layer so it can be accessed by the Lambda Function."
   ]
  },
  {
   "cell_type": "code",
   "execution_count": null,
   "metadata": {},
   "outputs": [],
   "source": [
    "# Import built-in libraries\n",
    "import json\n",
    "import time\n",
    "import boto3\n",
    "import datetime\n",
    "\n",
    "# The following libraries must be installed in a folder on a local machine\n",
    "# Then added as a layer\n",
    "from bs4 import BeautifulSoup\n",
    "import requests"
   ]
  },
  {
   "cell_type": "markdown",
   "metadata": {},
   "source": [
    "## Load AWS Resources"
   ]
  },
  {
   "cell_type": "code",
   "execution_count": null,
   "metadata": {},
   "outputs": [],
   "source": [
    "# Load AWS Resources\n",
    "dynamodb = boto3.resource('dynamodb')\n",
    "db = dynamodb.Table('Pitchfork')"
   ]
  },
  {
   "cell_type": "markdown",
   "metadata": {},
   "source": [
    "## Function for Scraping Reviews\n",
    "\n",
    "The main scraping capabilities follow from 1. Data Scraping. The scraped reviews will be stored in a DynamoDB table called 'Pitchfork', the following attributes will be stored:\n",
    "- url (Primary Key)\n",
    "- album_name\n",
    "- album_image\n",
    "- artist\n",
    "- genres\n",
    "- rating\n",
    "- tagline\n",
    "- time_loaded\n",
    "\n",
    "Since the order of the reviews on the 'Reviews' page does not change, once all of the unique review urls are obtained (in order from most recent to least), a query is run to check if the url already exists in the table. If it exists, the function stops adding reviews to the table.\n",
    "\n",
    "Once reviews are finished being added to the table, the send_email function is called to send an update email to designated accounts."
   ]
  },
  {
   "cell_type": "code",
   "execution_count": null,
   "metadata": {},
   "outputs": [],
   "source": [
    "def lambda_handler(event, context):\n",
    "    \n",
    "    # Get Reviews Page\n",
    "    url = \"https://pitchfork.com/reviews/albums/\"\n",
    "    r = requests.get(url)\n",
    "    soup = BeautifulSoup(r.content)\n",
    "\n",
    "    # Get all item reviews on Review Page\n",
    "    table = soup.findAll('div', attrs = {'class':\"SummaryItemWrapper-iwvBff gVhZsz summary-item summary-item--has-border summary-item--no-icon summary-item--text-align-left summary-item--layout-placement-text-below summary-item--layout-position-image-left summary-item--layout-proportions-50-50 summary-item--side-by-side-align-top summary-item--side-by-side-image-right-mobile-false summary-item--standard SummaryCollectionGridSummaryItem-WColm dzwmya\"}) \n",
    "    new_reviews = []\n",
    "    print(table)\n",
    "\n",
    "    # Loop through reviews\n",
    "    for i in table:   \n",
    "        # Get URL\n",
    "        hyperlink = i.find('a', attrs = {'SummaryItemHedLink-civMjp PNQqc summary-item-tracking__hed-link summary-item__hed-link summary-item__hed-link--underline-disable'}, href=True)\n",
    "        url = \"https://pitchfork.com\" + hyperlink['href']\n",
    "\n",
    "        # Check if current review is in db, if it is end function\n",
    "        check = db.get_item(Key={'url': url})\n",
    "\n",
    "        if 'Item' in check:\n",
    "            return {\n",
    "                'statusCode': 200,\n",
    "                'body': json.dumps(str(send_email(new_reviews)))\n",
    "            }\n",
    "\n",
    "        # Album Name\n",
    "        album_name = i.find('h3', attrs = {'class': 'SummaryItemHedBase-hiFYpQ jwYeiM summary-item__hed'}).get_text()\n",
    "\n",
    "        # Image URL\n",
    "        album_cover = i.find('img', attrs = {'class': 'ResponsiveImageContainer-eybHBd fptoWY responsive-image__image'}, src=True)['src']\n",
    "\n",
    "        # Artist Name\n",
    "        try:\n",
    "            artist = i.findAll('div', attrs = {'class': 'SummaryItemSubHedBase-gMyBBg bijetA summary-item__sub-hed'})[0].get_text()\n",
    "        except:\n",
    "            artist = \"Various Artists\"\n",
    "\n",
    "        # Print Genres\n",
    "        try:\n",
    "            genre_helper = i.findAll('div', attrs = {'class':'RubricWrapper-dKmCNX cStFUw rubric SummaryItemRubric-dguGKN lapGFj summary-item__rubric'})\n",
    "            genres = genre_helper[0].findAll('a')[0].findAll('span')[0].get_text()\n",
    "        except:\n",
    "            genres = \"Not Found\"\n",
    "\n",
    "        # Send Request for review page\n",
    "        time.sleep(1)\n",
    "        review_soup = BeautifulSoup(requests.get(url).content)\n",
    "\n",
    "        # Get Rating\n",
    "        try:\n",
    "            rating = review_soup.find('p', attrs = {'class': 'BaseWrap-sc-gjQpdd BaseText-ewhhUZ Rating-bkjebD iUEiRd bwCcXY imqiqZ'}).get_text()\n",
    "        except:\n",
    "            try:\n",
    "                rating = review_soup.find('div', attrs = {'class': 'ScoreCircle-jAxRuP akdGf'}).get_text()\n",
    "            except:\n",
    "                rating = \"NOT FOUND\"\n",
    "\n",
    "        # Get Summary\n",
    "        try:\n",
    "            tagline = review_soup.find('div', attrs = {'class': 'BaseWrap-sc-gjQpdd BaseText-ewhhUZ SplitScreenContentHeaderDekDown-csTFQR iUEiRd Byyns MVQMg'}).get_text()\n",
    "        except:\n",
    "            try:\n",
    "                tagline = review_soup.find('div', attrs = {'class': 'BaseWrap-sc-gjQpdd BaseText-ewhhUZ MultiReviewContentHeaderDek-dQARIe iUEiRd Byyns bBVtRE'}).get_text()\n",
    "            except:\n",
    "                tagline = \"NOT FOUND\"\n",
    "\n",
    "        # Create JSON for new review\n",
    "        review_info = {\n",
    "            'url': url,\n",
    "            'album_name': album_name,\n",
    "            'album_image': album_cover,\n",
    "            'artist': artist,\n",
    "            'genres': genres,\n",
    "            'rating': rating,\n",
    "            'tagline': tagline,\n",
    "            'time_loaded': str(datetime.datetime.now())\n",
    "        }\n",
    "\n",
    "        # Add New Review to DB\n",
    "        db.put_item(\n",
    "            Item=review_info\n",
    "        )\n",
    "\n",
    "        # Add New Review to List\n",
    "        new_reviews.append(review_info)\n",
    "\n",
    "    return {\n",
    "        'statusCode': 200,\n",
    "        'body': json.dumps(str(send_email(new_reviews)))\n",
    "    }"
   ]
  },
  {
   "cell_type": "markdown",
   "metadata": {},
   "source": [
    "## Function For Sending Emails\n",
    "\n",
    "send_email consumes a list containing dictionaries for new reviews. If this list is empty, the function returns a string indicating that there are no new reviews (an email is not sent out). Otherwise, the function will create the body of the email using HTML and send it to designated accounts.\n",
    "\n",
    "The emails are being sent using Amazon's Simple Email Service. As this project is for personal use, a 'sandbox' version of SES is being utilized, only allowing for emails to be sent/received by verified emails."
   ]
  },
  {
   "cell_type": "code",
   "execution_count": null,
   "metadata": {},
   "outputs": [],
   "source": [
    "def send_email(text):\n",
    "    # Sends Email with new reviews\n",
    "\n",
    "    # if there are new reviews, send email.\n",
    "    if text != []:\n",
    "        client = boto3.client(\"ses\")\n",
    "        subject = \"Latest Reviews from Pitchfork\"\n",
    "\n",
    "        # Generate Email Body\n",
    "        body = \"<h1 align='center'>New Reviews From Pitchfork</h1>\"\n",
    "        for i in text:\n",
    "            body = body + \"<center><img src='%s' width='300' height='300'><br><a href='%s'><b>%s</b> by %s</a> (%s, Rating: %s): %s</center><hr>\" % (i['album_image'],i['url'],i[\"album_name\"], i[\"artist\"], i[\"genres\"], i['rating'], i['tagline'])\n",
    "\n",
    "        # Send Email\n",
    "        message = {\"Subject\": {\"Data\": subject}, \"Body\": {\"Html\": {\"Data\": str(body)}}}\n",
    "        response = client.send_email(Source = \"XXX\",\n",
    "                Destination = {\"ToAddresses\": [\"XXX\", \"YYY\"]}, Message = message)\n",
    "        \n",
    "        # Return Response Message\n",
    "        return response\n",
    "    else:\n",
    "        return \"No new Reviews\""
   ]
  }
 ],
 "metadata": {
  "language_info": {
   "name": "python"
  }
 },
 "nbformat": 4,
 "nbformat_minor": 2
}
