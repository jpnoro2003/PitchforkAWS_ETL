{
 "cells": [
  {
   "cell_type": "markdown",
   "metadata": {},
   "source": [
    "# Pitchfork Scraper"
   ]
  },
  {
   "cell_type": "markdown",
   "metadata": {},
   "source": [
    "## Import Libraries"
   ]
  },
  {
   "cell_type": "code",
   "execution_count": 1,
   "metadata": {},
   "outputs": [],
   "source": [
    "import pandas as pd\n",
    "from bs4 import BeautifulSoup\n",
    "import requests\n",
    "import time"
   ]
  },
  {
   "cell_type": "markdown",
   "metadata": {},
   "source": [
    "## Get code for reviews page"
   ]
  },
  {
   "cell_type": "code",
   "execution_count": 2,
   "metadata": {},
   "outputs": [],
   "source": [
    "url = \"https://pitchfork.com/reviews/albums/\"\n",
    "r = requests.get(url)\n",
    "soup = BeautifulSoup(r.content)"
   ]
  },
  {
   "cell_type": "markdown",
   "metadata": {},
   "source": [
    "## Scrape info for each review"
   ]
  },
  {
   "cell_type": "code",
   "execution_count": 5,
   "metadata": {},
   "outputs": [],
   "source": [
    "table = soup.findAll('div', attrs = {'class':\"SummaryItemWrapper-iwvBff gVhZsz summary-item summary-item--has-border summary-item--no-icon summary-item--text-align-left summary-item--layout-placement-text-below summary-item--layout-position-image-left summary-item--layout-proportions-50-50 summary-item--side-by-side-align-top summary-item--side-by-side-image-right-mobile-false summary-item--standard SummaryCollectionGridSummaryItem-WColm dzwmya\"}) \n",
    "\n",
    "df = pd.DataFrame(columns = ['url', 'album_name', 'album_image', 'artist', 'genres', 'rating', 'tagline'])\n",
    "df_created = False\n",
    "\n",
    "counter = 10\n",
    "\n",
    "for i in table:\n",
    "    \n",
    "    # Album Name\n",
    "    album_name = i.find('h3', attrs = {'class': 'SummaryItemHedBase-hiFYpQ jwYeiM summary-item__hed'}).get_text()\n",
    "\n",
    "    # Image URL\n",
    "    album_cover = i.find('img', attrs = {'class': 'ResponsiveImageContainer-eybHBd fptoWY responsive-image__image'}, src=True)['src']\n",
    "\n",
    "    # Artist Name\n",
    "    try:\n",
    "        artist = i.findAll('div', attrs = {'class': 'SummaryItemSubHedBase-gMyBBg bijetA summary-item__sub-hed'})[0].get_text()\n",
    "    except:\n",
    "        artist = \"Various Artists\"\n",
    "\n",
    "    # Print Genres\n",
    "    try:\n",
    "        genre_helper = i.findAll('div', attrs = {'class':'RubricWrapper-dKmCNX cStFUw rubric SummaryItemRubric-dguGKN lapGFj summary-item__rubric'})\n",
    "        genres = genre_helper[0].findAll('a')[0].findAll('span')[0].get_text()\n",
    "    except:\n",
    "        genres = \"Not Found\"\n",
    "\n",
    "    # Get URL\n",
    "    hyperlink = i.find('a', attrs = {'SummaryItemHedLink-civMjp PNQqc summary-item-tracking__hed-link summary-item__hed-link summary-item__hed-link--underline-disable'}, href=True)\n",
    "    url = \"https://pitchfork.com\" + hyperlink['href']\n",
    "\n",
    "    # Send Request for review page\n",
    "    time.sleep(1)\n",
    "    review_soup = BeautifulSoup(requests.get(url).content)\n",
    "\n",
    "    # Get Rating\n",
    "    try:\n",
    "        rating = review_soup.find('p', attrs = {'class': 'BaseWrap-sc-gjQpdd BaseText-ewhhUZ Rating-bkjebD iUEiRd bwCcXY imqiqZ'}).get_text()\n",
    "    except:\n",
    "        try:\n",
    "            rating = review_soup.find('div', attrs = {'class': 'ScoreCircle-jAxRuP akdGf'}).get_text()\n",
    "        except:\n",
    "            rating = \"NOT FOUND\"\n",
    "\n",
    "    # Get Summary\n",
    "    try:\n",
    "        tagline = review_soup.find('div', attrs = {'class': 'BaseWrap-sc-gjQpdd BaseText-ewhhUZ SplitScreenContentHeaderDekDown-csTFQR iUEiRd Byyns MVQMg'}).get_text()\n",
    "    except:\n",
    "        try:\n",
    "            tagline = review_soup.find('div', attrs = {'class': 'BaseWrap-sc-gjQpdd BaseText-ewhhUZ MultiReviewContentHeaderDek-dQARIe iUEiRd Byyns bBVtRE'}).get_text()\n",
    "        except:\n",
    "            tagline = \"NOT FOUND\"\n",
    "\n",
    "    review_info = {\n",
    "        'url': [url],\n",
    "        'album_name': [album_name],\n",
    "        'album_image': [album_cover],\n",
    "        'artist': [artist],\n",
    "        'genres': [genres],\n",
    "        'rating': [rating],\n",
    "        'tagline': [tagline]\n",
    "    }\n",
    "\n",
    "    df = pd.concat([df, pd.DataFrame(review_info)], ignore_index=True)\n",
    "\n",
    "    counter = counter - 1\n",
    "    if counter == 0:\n",
    "        break"
   ]
  },
  {
   "cell_type": "markdown",
   "metadata": {},
   "source": [
    "## View DataFrame"
   ]
  },
  {
   "cell_type": "code",
   "execution_count": null,
   "metadata": {},
   "outputs": [
    {
     "data": {
      "text/plain": [
       "'https://pitchfork.com/reviews/albums/autre-ne-veut-love-guess-who-xxooxx/'"
      ]
     },
     "execution_count": 8,
     "metadata": {},
     "output_type": "execute_result"
    }
   ],
   "source": [
    "df"
   ]
  }
 ],
 "metadata": {
  "kernelspec": {
   "display_name": "Python 3",
   "language": "python",
   "name": "python3"
  },
  "language_info": {
   "codemirror_mode": {
    "name": "ipython",
    "version": 3
   },
   "file_extension": ".py",
   "mimetype": "text/x-python",
   "name": "python",
   "nbconvert_exporter": "python",
   "pygments_lexer": "ipython3",
   "version": "3.12.5"
  }
 },
 "nbformat": 4,
 "nbformat_minor": 2
}
